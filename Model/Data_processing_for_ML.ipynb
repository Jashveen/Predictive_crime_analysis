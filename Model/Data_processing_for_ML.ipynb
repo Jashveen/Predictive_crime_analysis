{
 "cells": [
  {
   "cell_type": "code",
   "execution_count": 6,
   "id": "5ea89d9d-6b31-4b5f-9845-2472cedcc3d6",
   "metadata": {},
   "outputs": [],
   "source": [
    "import pandas as pd\n",
    "from sklearn.preprocessing import MinMaxScaler\n",
    "\n",
    "# Step 1: Select Relevant Columns\n",
    "df = pd.read_csv(r\"C:\\Users\\Jash Progs\\Datathon\\dataset\\officialdataset\\pcadata\\FIR_Details_Data.csv\", usecols=['District_Name', 'Year'])\n",
    "\n",
    "# Step 2: Create 'crime_count' Column\n",
    "df['crime_count'] = df.groupby(['District_Name', 'Year'])['District_Name'].transform('count')\n",
    "\n",
    "# Step 3: Normalize Data based on District Ratio\n",
    "scaler = MinMaxScaler()\n",
    "df['crime_count_scaled'] = scaler.fit_transform(df[['crime_count']])\n",
    "\n",
    "# Optional: Drop the original 'crime_count' column if not needed\n",
    "df.drop(columns=['crime_count'], inplace=True)\n",
    "\n",
    "# Optional: Save the preprocessed data to a new CSV file\n",
    "df.to_csv('preprocessed_data.csv', index=False)\n"
   ]
  },
  {
   "cell_type": "code",
   "execution_count": null,
   "id": "36a605fa-a95e-40ed-90fd-93e1a77fc069",
   "metadata": {},
   "outputs": [],
   "source": []
  }
 ],
 "metadata": {
  "kernelspec": {
   "display_name": "Python 3 (ipykernel)",
   "language": "python",
   "name": "python3"
  },
  "language_info": {
   "codemirror_mode": {
    "name": "ipython",
    "version": 3
   },
   "file_extension": ".py",
   "mimetype": "text/x-python",
   "name": "python",
   "nbconvert_exporter": "python",
   "pygments_lexer": "ipython3",
   "version": "3.11.1"
  }
 },
 "nbformat": 4,
 "nbformat_minor": 5
}
