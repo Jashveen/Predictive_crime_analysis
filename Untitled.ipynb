{
 "cells": [
  {
   "cell_type": "code",
   "execution_count": 1,
   "id": "13cda89a-dbf5-4007-b080-ecb1620edc1a",
   "metadata": {},
   "outputs": [],
   "source": [
    "import json\n",
    "import pandas as pd\n",
    "import plotly.express as px\n",
    "import plotly.io as pio\n",
    "pio.renderers.default = 'chrome'"
   ]
  },
  {
   "cell_type": "code",
   "execution_count": 3,
   "id": "ea3d5020-9c45-4b8f-abe3-540f0abada76",
   "metadata": {},
   "outputs": [
    {
     "name": "stdout",
     "output_type": "stream",
     "text": [
      "dict_keys(['dt_code', 'district', 'st_code', 'year', 'st_nm'])\n"
     ]
    }
   ],
   "source": [
    "import json\n",
    "\n",
    "with open(r\"C:\\Users\\Jash\\karnataka.json\", 'r') as f:\n",
    "    geojson_data = json.load(f)\n",
    "    \n",
    "first_feature = geojson_data['features'][0]\n",
    "print(first_feature['properties'].keys())\n"
   ]
  },
  {
   "cell_type": "code",
   "execution_count": 5,
   "id": "601dd8a4-0719-4bba-b59a-589bbc3b8323",
   "metadata": {},
   "outputs": [
    {
     "ename": "KeyError",
     "evalue": "'District_Name'",
     "output_type": "error",
     "traceback": [
      "\u001b[1;31m---------------------------------------------------------------------------\u001b[0m",
      "\u001b[1;31mKeyError\u001b[0m                                  Traceback (most recent call last)",
      "Cell \u001b[1;32mIn[5], line 6\u001b[0m\n\u001b[0;32m      4\u001b[0m \u001b[38;5;28;01mfor\u001b[39;00m feature \u001b[38;5;129;01min\u001b[39;00m karnataka_districts[\u001b[38;5;124m\"\u001b[39m\u001b[38;5;124mfeatures\u001b[39m\u001b[38;5;124m\"\u001b[39m]:\n\u001b[0;32m      5\u001b[0m     feature[\u001b[38;5;124m\"\u001b[39m\u001b[38;5;124mid\u001b[39m\u001b[38;5;124m\"\u001b[39m] \u001b[38;5;241m=\u001b[39m feature[\u001b[38;5;124m\"\u001b[39m\u001b[38;5;124mproperties\u001b[39m\u001b[38;5;124m\"\u001b[39m][\u001b[38;5;124m\"\u001b[39m\u001b[38;5;124mdistrict\u001b[39m\u001b[38;5;124m\"\u001b[39m]  \u001b[38;5;66;03m# Assuming 'DISTRICT' is the unique identifier in GeoJSON\u001b[39;00m\n\u001b[1;32m----> 6\u001b[0m     district_id_map[\u001b[43mfeature\u001b[49m\u001b[43m[\u001b[49m\u001b[38;5;124;43m\"\u001b[39;49m\u001b[38;5;124;43mproperties\u001b[39;49m\u001b[38;5;124;43m\"\u001b[39;49m\u001b[43m]\u001b[49m\u001b[43m[\u001b[49m\u001b[38;5;124;43m\"\u001b[39;49m\u001b[38;5;124;43mDistrict_Name\u001b[39;49m\u001b[38;5;124;43m\"\u001b[39;49m\u001b[43m]\u001b[49m] \u001b[38;5;241m=\u001b[39m feature[\u001b[38;5;124m\"\u001b[39m\u001b[38;5;124mid\u001b[39m\u001b[38;5;124m\"\u001b[39m]\n",
      "\u001b[1;31mKeyError\u001b[0m: 'District_Name'"
     ]
    }
   ],
   "source": [
    "# Load GeoJSON data\n",
    "karnataka_districts = json.load(open(r\"C:\\Users\\Jash\\karnataka.json\", \"r\"))\n",
    "district_id_map = {}\n",
    "for feature in karnataka_districts[\"features\"]:\n",
    "    feature[\"id\"] = feature[\"properties\"][\"district\"]  # Assuming 'DISTRICT' is the unique identifier in GeoJSON\n",
    "    district_id_map[feature[\"properties\"][\"District_Name\"]] = feature[\"id\"]"
   ]
  },
  {
   "cell_type": "code",
   "execution_count": null,
   "id": "a4121b14-173f-4f25-ace3-681adf76a593",
   "metadata": {},
   "outputs": [],
   "source": []
  }
 ],
 "metadata": {
  "kernelspec": {
   "display_name": "Python 3 (ipykernel)",
   "language": "python",
   "name": "python3"
  },
  "language_info": {
   "codemirror_mode": {
    "name": "ipython",
    "version": 3
   },
   "file_extension": ".py",
   "mimetype": "text/x-python",
   "name": "python",
   "nbconvert_exporter": "python",
   "pygments_lexer": "ipython3",
   "version": "3.11.1"
  }
 },
 "nbformat": 4,
 "nbformat_minor": 5
}
